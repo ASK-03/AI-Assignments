{
  "nbformat": 4,
  "nbformat_minor": 0,
  "metadata": {
    "colab": {
      "provenance": []
    },
    "kernelspec": {
      "name": "python3",
      "display_name": "Python 3"
    },
    "language_info": {
      "name": "python"
    }
  },
  "cells": [
    {
      "cell_type": "markdown",
      "source": [
        "## Q1 **Conversion Order**\n",
        "\n",
        "##### The problem is essentially about finding the shortest sequence of words in a given dictionary, where each adjacent pair of words differs by only one letter and has the same length.\n",
        "The code uses two search algorithms to tackle this problem:\n",
        "*   **Breadth First Search (BFS):** This algorithm explores the search space level by level, starting from the initial word and expanding to neighboring words. It keeps track of visited words and builds a path until the target word is reached. BFS guarantees that the first path found is the shortest.\n",
        "*  **Iterative Deepening Depth First Search (IDDFS):** This algorithm combines depth-first search with a series of depth limits. It explores paths starting from the initial word and recursively searches deeper until it reaches the target word or a specified depth limit. It repeats this process with increasing depth limits until it finds the shortest path.\n",
        "*  The code reads the dictionary, start word, and end word as input from the user, and then it applies both BFS and IDDFS to find the smallest order of words.\n",
        "*  If a path is found using either BFS or IDDFS, it prints the sequence of words that make up the path. If no path is found, it indicates that by printing \"No path found.\""
      ],
      "metadata": {
        "id": "1eO8tHNiHvK1"
      }
    },
    {
      "cell_type": "code",
      "execution_count": 12,
      "metadata": {
        "id": "_Nvk5HgDz1eJ"
      },
      "outputs": [],
      "source": [
        "from collections import deque\n",
        "\n",
        "# Function to check if two words are neighbors (differ by one letter and have the same length)\n",
        "def is_neighbor(word1, word2):\n",
        "    if len(word1) != len(word2):\n",
        "        return False\n",
        "    diff_count = sum(c1 != c2 for c1, c2 in zip(word1, word2))\n",
        "    return diff_count == 1\n",
        "\n",
        "# Breadth-First Search (BFS) to find the smallest order of words\n",
        "def bfs(start, end, dictionary):\n",
        "    visited = set()\n",
        "    queue = deque([(start, [start])])\n",
        "    # print(queue)\n",
        "\n",
        "    while queue:\n",
        "        current_word, path = queue.popleft()\n",
        "        visited.add(current_word)\n",
        "\n",
        "        if current_word == end:\n",
        "            return path\n",
        "\n",
        "        for word in dictionary:\n",
        "            if word not in visited and is_neighbor(current_word, word):\n",
        "                new_path = path + [word]\n",
        "                queue.append((word, new_path))\n",
        "        # print(queue)\n",
        "\n",
        "# Iterative Deepening Depth-First Search (IDDFS) to find the smallest order of words\n",
        "def iddfs(start, end, dictionary):\n",
        "    for depth_limit in range(1, len(dictionary) + 2):\n",
        "        result = dfs(start, end, dictionary, depth_limit, [start])\n",
        "        if result:\n",
        "            return result\n",
        "\n",
        "# Depth-First Search (DFS) used by IDDFS\n",
        "def dfs(current_word, end, dictionary, depth_limit, path):\n",
        "    if current_word == end:\n",
        "        return path\n",
        "\n",
        "    if depth_limit == 0:\n",
        "        return None\n",
        "\n",
        "    for word in dictionary:\n",
        "        if is_neighbor(current_word, word) and word not in path:\n",
        "            new_path = path + [word]\n",
        "            result = dfs(word, end, dictionary, depth_limit - 1, new_path)\n",
        "            if result:\n",
        "                return result"
      ]
    },
    {
      "cell_type": "code",
      "source": [
        "# Read input from the userK = int(input())\n",
        "print(\"INPUT: \")\n",
        "K = int(input())\n",
        "start, end = input().split()\n",
        "dictionary = [input() for _ in range(K)]\n",
        "\n",
        "# Find the smallest order of words using BFS\n",
        "bfs_result = bfs(start, end, dictionary)\n",
        "\n",
        "# Find the smallest order of words using IDDFS\n",
        "iddfs_result = iddfs(start, end, dictionary)\n",
        "\n",
        "\n",
        "print(\"\\nOUTPUT: \")\n",
        "if bfs_result:\n",
        "    print(\"BFS Result: \",\" \".join(bfs_result))\n",
        "else:\n",
        "    print(\"No path found using BFS\")\n",
        "\n",
        "if iddfs_result:\n",
        "    print(\"IDDFS Result: \",\" \".join(iddfs_result))\n",
        "else:\n",
        "    print(\"No path found using IDDFS\")"
      ],
      "metadata": {
        "colab": {
          "base_uri": "https://localhost:8080/"
        },
        "id": "lYfWuLYJGZAz",
        "outputId": "e8fc5096-4a89-4571-e2e7-9f1436a05248"
      },
      "execution_count": 20,
      "outputs": [
        {
          "output_type": "stream",
          "name": "stdout",
          "text": [
            "INPUT: \n",
            "5\n",
            "sky sun\n",
            "spy\n",
            "soy\n",
            "son\n",
            "sun\n",
            "sum\n",
            "\n",
            "OUTPUT: \n",
            "BFS Result:  sky soy son sun\n",
            "IDDFS Result:  sky soy son sun\n"
          ]
        }
      ]
    }
  ]
}